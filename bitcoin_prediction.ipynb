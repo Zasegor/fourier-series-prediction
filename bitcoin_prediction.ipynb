{
  "nbformat": 4,
  "nbformat_minor": 0,
  "metadata": {
    "colab": {
      "provenance": [],
      "authorship_tag": "ABX9TyO1/tkp1eUtOUd7gyz3ed2b",
      "include_colab_link": true
    },
    "kernelspec": {
      "name": "python3",
      "display_name": "Python 3"
    },
    "language_info": {
      "name": "python"
    }
  },
  "cells": [
    {
      "cell_type": "markdown",
      "metadata": {
        "id": "view-in-github",
        "colab_type": "text"
      },
      "source": [
        "<a href=\"https://colab.research.google.com/github/Zasegor/fourier-series-prediction/blob/main/bitcoin_prediction.ipynb\" target=\"_parent\"><img src=\"https://colab.research.google.com/assets/colab-badge.svg\" alt=\"Open In Colab\"/></a>"
      ]
    },
    {
      "cell_type": "code",
      "execution_count": null,
      "metadata": {
        "id": "Fs8647UJcGqu"
      },
      "outputs": [],
      "source": []
    },
    {
      "cell_type": "markdown",
      "source": [
        "# BitCoin"
      ],
      "metadata": {
        "id": "Qr6RDUdLv3xM"
      }
    },
    {
      "cell_type": "code",
      "source": [
        "import math\n",
        "import numpy as np\n",
        "import pandas as pd\n",
        "from scipy.signal import butter, filtfilt\n",
        "from statsmodels.tsa.stattools import acf\n",
        "from statsmodels.tsa.arima.model import ARIMA\n",
        "from statsmodels.tsa.seasonal import seasonal_decompose\n",
        "from sklearn.metrics import mean_absolute_error, mean_absolute_percentage_error\n",
        "import plotly.graph_objects as go\n"
      ],
      "metadata": {
        "id": "8fo82KiKOKlV"
      },
      "execution_count": 1,
      "outputs": []
    },
    {
      "cell_type": "code",
      "source": [
        "class BitcoinFourierForecaster:\n",
        "    \"\"\"\n",
        "    A class for forecasting Bitcoin prices using Fourier series with cosine terms on daily data.\n",
        "\n",
        "    Args:\n",
        "        l (int): Length of the period (in days).\n",
        "        m (int): Number of periods.\n",
        "        p (int): Delay size for 'delay' method or AR order for 'arima' method.\n",
        "        method (str): Forecasting method ('delay' or 'arima').\n",
        "        reg_lambda (float): Regularization parameter for linear systems.\n",
        "        fs (float): Sampling frequency (1 Hz for daily data).\n",
        "    \"\"\"\n",
        "    def __init__(self, l: int = 180, m: int = 5, p: int = 1, method: str = \"arima\", reg_lambda: float = 1e-6, fs: float = 1):\n",
        "        self.l = l\n",
        "        self.m = m\n",
        "        self.p = p\n",
        "        self.method = method.lower()\n",
        "        self.reg_lambda = reg_lambda\n",
        "        self.fs = fs\n",
        "        self.matrix = None\n",
        "        self.new_coefs = None\n",
        "        self.prediction = None\n",
        "        self.trend = None\n",
        "\n",
        "        if self.method not in [\"delay\", \"arima\"]:\n",
        "            raise ValueError(\"Method must be 'delay' or 'arima'\")\n",
        "        if self.l < 1 or self.m < 1 or self.p < 1:\n",
        "            raise ValueError(\"l, m, and p must be positive integers\")\n",
        "\n",
        "    def preprocess_series(self, series: pd.Series) -> pd.Series:\n",
        "        \"\"\"\n",
        "        Preprocesses the series: log-transform, smoothing, and detrending.\n",
        "\n",
        "        Args:\n",
        "            series: Input time series (pandas Series).\n",
        "\n",
        "        Returns:\n",
        "            Processed series (pandas Series).\n",
        "        \"\"\"\n",
        "        series = np.log(series.replace(0, np.nan).fillna(method='ffill'))\n",
        "\n",
        "        nyquist = 0.5 * self.fs\n",
        "        lowcut = 0.001 / nyquist\n",
        "        highcut = 0.05 / nyquist\n",
        "        b, a = butter(4, [lowcut, highcut], btype='band')\n",
        "        smoothed = filtfilt(b, a, series)\n",
        "\n",
        "        result = seasonal_decompose(smoothed, period=int(self.l/10), model='additive', extrapolate_trend='freq')\n",
        "        self.trend = result.trend\n",
        "        detrended = series - self.trend\n",
        "\n",
        "        return pd.Series(detrended, index=series.index)\n",
        "\n",
        "    def _cos(self, k: int, t: int, l: int) -> float:\n",
        "        \"\"\"Computes the cosine term for Fourier series.\"\"\"\n",
        "        return math.cos(math.pi * k * t / l)\n",
        "\n",
        "    def _get_matrix_and_vector(self, period_i: np.ndarray) -> tuple[np.ndarray, np.ndarray]:\n",
        "        \"\"\"Constructs the matrix and vector for Fourier coefficient computation.\"\"\"\n",
        "        if len(period_i) < 2:\n",
        "            raise ValueError(\"period_i must have at least 2 elements\")\n",
        "\n",
        "        l = len(period_i) - 1\n",
        "        t = np.arange(l + 1)\n",
        "        k = np.arange(1, l + 1)\n",
        "\n",
        "        cos_values = np.cos(np.pi * k[:, None] * t / l)\n",
        "        matrix = np.hstack([0.5 * np.ones((l + 1, 1)), cos_values.T])\n",
        "        y = period_i.copy()\n",
        "\n",
        "        return matrix, y\n",
        "\n",
        "    def _solve_system(self, M: np.ndarray, b: np.ndarray) -> np.ndarray:\n",
        "        \"\"\"Solves a linear system with optional regularization.\"\"\"\n",
        "        if np.linalg.cond(M) > 1e6:\n",
        "            M_reg = M + self.reg_lambda * np.eye(M.shape[0])\n",
        "            return np.linalg.solve(M_reg, b)\n",
        "        return np.linalg.solve(M, b)\n",
        "\n",
        "    def _get_matrix_from_series(self, series: pd.Series) -> np.ndarray:\n",
        "        \"\"\"Converts the time series into a matrix of period observations.\"\"\"\n",
        "        expected_length = self.m * self.l\n",
        "        if len(series) < expected_length:\n",
        "            raise ValueError(f\"Series length {len(series)} is less than required {expected_length}\")\n",
        "\n",
        "        series_values = series.values[:expected_length]\n",
        "        if len(series_values) < expected_length:\n",
        "            series_values = np.pad(series_values, (0, expected_length - len(series_values)), mode='constant')\n",
        "\n",
        "        return series_values.reshape(self.m, self.l)\n",
        "\n",
        "    def _get_delay_matrix(self, input_vector: np.ndarray) -> np.ndarray:\n",
        "        \"\"\"Constructs a delay matrix for k-NN forecasting.\"\"\"\n",
        "        input_vector_copy = np.copy(input_vector)\n",
        "        m = input_vector_copy.shape[0] % self.p\n",
        "\n",
        "        if m != 0:\n",
        "            input_vector_copy = np.delete(input_vector_copy, range(m))\n",
        "\n",
        "        row_dim = input_vector_copy.shape[0] // self.p\n",
        "        delay_matrix = np.resize(input_vector_copy, new_shape=(row_dim, self.p)).T\n",
        "\n",
        "        return delay_matrix\n",
        "\n",
        "    def _find_nearest(self, row: np.ndarray) -> set:\n",
        "        \"\"\"Finds indices of nearest neighbors for k-NN forecasting.\"\"\"\n",
        "        neighbors_cnt = 2 * self.p + 1\n",
        "        last_element = row[-1]\n",
        "        all_neighbors = row[:-1]\n",
        "        idx = set(np.argsort(np.abs(all_neighbors - last_element))[:neighbors_cnt])\n",
        "\n",
        "        return idx\n",
        "\n",
        "    def _predict_by_one_step(self, input_vector: np.ndarray) -> float:\n",
        "        \"\"\"Predicts one step ahead using the specified method.\"\"\"\n",
        "        if self.method == \"arima\":\n",
        "            if len(input_vector) < 3:\n",
        "                return input_vector[-1]\n",
        "            try:\n",
        "                model = ARIMA(input_vector, order=(min(self.p, 2), 0, 0))\n",
        "                model_fit = model.fit()\n",
        "                return model_fit.forecast(steps=1)[0]\n",
        "            except Exception:\n",
        "                return input_vector[-1]\n",
        "        else:  # delay method\n",
        "            delay_matrix = self._get_delay_matrix(input_vector)\n",
        "            last_row = delay_matrix[-1, :]\n",
        "            nearest_neighbors_indexes = self._find_nearest(last_row)\n",
        "\n",
        "            y = np.empty((0,))\n",
        "            X = np.empty((0, self.p + 1))\n",
        "            for index in nearest_neighbors_indexes:\n",
        "                y = np.append(y, delay_matrix[0, index + 1])\n",
        "                row = np.append(np.array([1]), delay_matrix[:, index])\n",
        "                row = np.reshape(row, (1, self.p + 1))\n",
        "                X = np.append(X, row, axis=0)\n",
        "\n",
        "            coef = np.dot(np.dot(np.linalg.inv(np.dot(X.T, X)), X.T), y)\n",
        "            return sum(np.append(np.array([1]), delay_matrix[:, -1]) * coef)\n",
        "\n",
        "    def _get_new_fourier_coefs(self, periods: np.ndarray) -> list:\n",
        "        \"\"\"Computes Fourier coefficients for the next period.\"\"\"\n",
        "        new_coefs = []\n",
        "        coefs_for_all_periods = []\n",
        "\n",
        "        for period in periods:\n",
        "            X, y = self._get_matrix_and_vector(period)\n",
        "            fourier_coef_for_period = self._solve_system(X, y)\n",
        "            coefs_for_all_periods.append(fourier_coef_for_period)\n",
        "\n",
        "        coefs_for_all_periods = np.array(coefs_for_all_periods)\n",
        "\n",
        "        for i in range(coefs_for_all_periods.shape[1]):\n",
        "            coef_for_next_period = self._predict_by_one_step(coefs_for_all_periods[:, i])\n",
        "            new_coefs.append(coef_for_next_period)\n",
        "\n",
        "        return new_coefs\n",
        "\n",
        "    def _predict_next_period(self) -> list:\n",
        "        \"\"\"Predicts the time series for the next period.\"\"\"\n",
        "        new_period = []\n",
        "        for t in range(self.l):\n",
        "            s = self.new_coefs[0] / 2\n",
        "            for k in range(1, len(self.new_coefs)):\n",
        "                s += self.new_coefs[k] * self._cos(k, t, self.l - 1)\n",
        "            new_period.append(s)\n",
        "\n",
        "        return new_period\n",
        "\n",
        "    def fit(self, series: pd.Series) -> 'BitcoinFourierForecaster':\n",
        "        \"\"\"\n",
        "        Fits the model to the input time series.\n",
        "\n",
        "        Args:\n",
        "            series: Input time series (pandas Series).\n",
        "\n",
        "        Returns:\n",
        "            Self for method chaining.\n",
        "        \"\"\"\n",
        "        processed_series = self.preprocess_series(series)\n",
        "        self.matrix = self._get_matrix_from_series(processed_series)\n",
        "        self.new_coefs = self._get_new_fourier_coefs(self.matrix)\n",
        "        return self\n",
        "\n",
        "    def predict(self, index: pd.Index = None) -> pd.Series:\n",
        "        \"\"\"\n",
        "        Predicts the next period.\n",
        "\n",
        "        Args:\n",
        "            index: Index for the predicted series (optional).\n",
        "\n",
        "        Returns:\n",
        "            Predicted series for the next period (pandas Series).\n",
        "        \"\"\"\n",
        "        self.prediction = self._predict_next_period()\n",
        "        trend_last = self.trend[-1] if self.trend is not None else 0\n",
        "        self.prediction = np.exp(np.array(self.prediction) + trend_last)\n",
        "\n",
        "        if index is None:\n",
        "            index = pd.date_range(start=pd.Timestamp.now(), periods=self.l, freq='D')\n",
        "        return pd.Series(self.prediction[:len(index)], index=index)\n",
        "\n",
        "    def evaluate(self, test_series: pd.Series, end_date: str = None) -> tuple[float, float]:\n",
        "        \"\"\"\n",
        "        Evaluates the prediction against a test series.\n",
        "\n",
        "        Args:\n",
        "            test_series: Test time series (pandas Series).\n",
        "            end_date: End date for evaluation (optional).\n",
        "\n",
        "        Returns:\n",
        "            Tuple of (MAE, MAPE) metrics.\n",
        "        \"\"\"\n",
        "        if self.prediction is None:\n",
        "            raise ValueError(\"Model must be fitted and predicted before evaluation\")\n",
        "\n",
        "        pred = pd.Series(self.prediction[:min(self.l, len(test_series))], index=test_series.index[:min(self.l, len(test_series))])\n",
        "        if end_date:\n",
        "            pred = pred[pred.index <= pd.Timestamp(end_date)]\n",
        "            test = test_series[test_series.index <= pd.Timestamp(end_date)]\n",
        "        else:\n",
        "            test = test_series[:self.l]\n",
        "\n",
        "        mae = round(mean_absolute_error(test, pred), 2)\n",
        "        mape = round(mean_absolute_percentage_error(test, pred), 3)\n",
        "        return mae, mape\n",
        "\n",
        "    def plot(self, test_series: pd.Series, end_date: str = None) -> go.Figure:\n",
        "        \"\"\"\n",
        "        Plots the predicted and test series using Plotly.\n",
        "\n",
        "        Args:\n",
        "            test_series: Test time series (pandas Series).\n",
        "            end_date: End date for plotting (optional).\n",
        "\n",
        "        Returns:\n",
        "            Plotly Figure object.\n",
        "        \"\"\"\n",
        "        if self.prediction is None:\n",
        "            raise ValueError(\"Model must be fitted and predicted before plotting\")\n",
        "\n",
        "        pred = pd.Series(self.prediction[:min(self.l, len(test_series))], index=test_series.index[:min(self.l, len(test_series))])\n",
        "        if end_date:\n",
        "            pred = pred[pred.index <= pd.Timestamp(end_date)]\n",
        "            test = test_series[test_series.index <= pd.Timestamp(end_date)]\n",
        "        else:\n",
        "            test = test_series[:self.l]\n",
        "\n",
        "        fig = go.Figure()\n",
        "        fig.add_scatter(\n",
        "            x=pred.index,\n",
        "            y=pred.values,\n",
        "            line={'width': 2},\n",
        "            name=\"Predicted Prices\"\n",
        "        )\n",
        "        fig.add_scatter(\n",
        "            x=test.index,\n",
        "            y=test.values,\n",
        "            line={'width': 2},\n",
        "            name=\"Actual Prices\"\n",
        "        )\n",
        "        fig.update_layout(\n",
        "            title=\"Bitcoin Price Forecast vs Actual (Daily)\",\n",
        "            xaxis_title=\"Date\",\n",
        "            yaxis_title=\"Price (USD)\",\n",
        "            template=\"plotly_white\"\n",
        "        )\n",
        "        return fig"
      ],
      "metadata": {
        "id": "O2hg_QFpyxpM"
      },
      "execution_count": 2,
      "outputs": []
    },
    {
      "cell_type": "code",
      "source": [
        "bit_data = pd.read_csv('/content/btcusd_1-min_data.csv')"
      ],
      "metadata": {
        "colab": {
          "base_uri": "https://localhost:8080/",
          "height": 286
        },
        "id": "G553GZ9DzleB",
        "outputId": "ff6295fd-70b7-4e27-820d-be26bfcb8e10"
      },
      "execution_count": 3,
      "outputs": [
        {
          "output_type": "error",
          "ename": "FileNotFoundError",
          "evalue": "[Errno 2] No such file or directory: '/content/btcusd_1-min_data.csv'",
          "traceback": [
            "\u001b[0;31m---------------------------------------------------------------------------\u001b[0m",
            "\u001b[0;31mFileNotFoundError\u001b[0m                         Traceback (most recent call last)",
            "\u001b[0;32m<ipython-input-3-e71c426a7fc9>\u001b[0m in \u001b[0;36m<cell line: 0>\u001b[0;34m()\u001b[0m\n\u001b[0;32m----> 1\u001b[0;31m \u001b[0mbit_data\u001b[0m \u001b[0;34m=\u001b[0m \u001b[0mpd\u001b[0m\u001b[0;34m.\u001b[0m\u001b[0mread_csv\u001b[0m\u001b[0;34m(\u001b[0m\u001b[0;34m'/content/btcusd_1-min_data.csv'\u001b[0m\u001b[0;34m)\u001b[0m\u001b[0;34m\u001b[0m\u001b[0;34m\u001b[0m\u001b[0m\n\u001b[0m",
            "\u001b[0;32m/usr/local/lib/python3.11/dist-packages/pandas/io/parsers/readers.py\u001b[0m in \u001b[0;36mread_csv\u001b[0;34m(filepath_or_buffer, sep, delimiter, header, names, index_col, usecols, dtype, engine, converters, true_values, false_values, skipinitialspace, skiprows, skipfooter, nrows, na_values, keep_default_na, na_filter, verbose, skip_blank_lines, parse_dates, infer_datetime_format, keep_date_col, date_parser, date_format, dayfirst, cache_dates, iterator, chunksize, compression, thousands, decimal, lineterminator, quotechar, quoting, doublequote, escapechar, comment, encoding, encoding_errors, dialect, on_bad_lines, delim_whitespace, low_memory, memory_map, float_precision, storage_options, dtype_backend)\u001b[0m\n\u001b[1;32m   1024\u001b[0m     \u001b[0mkwds\u001b[0m\u001b[0;34m.\u001b[0m\u001b[0mupdate\u001b[0m\u001b[0;34m(\u001b[0m\u001b[0mkwds_defaults\u001b[0m\u001b[0;34m)\u001b[0m\u001b[0;34m\u001b[0m\u001b[0;34m\u001b[0m\u001b[0m\n\u001b[1;32m   1025\u001b[0m \u001b[0;34m\u001b[0m\u001b[0m\n\u001b[0;32m-> 1026\u001b[0;31m     \u001b[0;32mreturn\u001b[0m \u001b[0m_read\u001b[0m\u001b[0;34m(\u001b[0m\u001b[0mfilepath_or_buffer\u001b[0m\u001b[0;34m,\u001b[0m \u001b[0mkwds\u001b[0m\u001b[0;34m)\u001b[0m\u001b[0;34m\u001b[0m\u001b[0;34m\u001b[0m\u001b[0m\n\u001b[0m\u001b[1;32m   1027\u001b[0m \u001b[0;34m\u001b[0m\u001b[0m\n\u001b[1;32m   1028\u001b[0m \u001b[0;34m\u001b[0m\u001b[0m\n",
            "\u001b[0;32m/usr/local/lib/python3.11/dist-packages/pandas/io/parsers/readers.py\u001b[0m in \u001b[0;36m_read\u001b[0;34m(filepath_or_buffer, kwds)\u001b[0m\n\u001b[1;32m    618\u001b[0m \u001b[0;34m\u001b[0m\u001b[0m\n\u001b[1;32m    619\u001b[0m     \u001b[0;31m# Create the parser.\u001b[0m\u001b[0;34m\u001b[0m\u001b[0;34m\u001b[0m\u001b[0m\n\u001b[0;32m--> 620\u001b[0;31m     \u001b[0mparser\u001b[0m \u001b[0;34m=\u001b[0m \u001b[0mTextFileReader\u001b[0m\u001b[0;34m(\u001b[0m\u001b[0mfilepath_or_buffer\u001b[0m\u001b[0;34m,\u001b[0m \u001b[0;34m**\u001b[0m\u001b[0mkwds\u001b[0m\u001b[0;34m)\u001b[0m\u001b[0;34m\u001b[0m\u001b[0;34m\u001b[0m\u001b[0m\n\u001b[0m\u001b[1;32m    621\u001b[0m \u001b[0;34m\u001b[0m\u001b[0m\n\u001b[1;32m    622\u001b[0m     \u001b[0;32mif\u001b[0m \u001b[0mchunksize\u001b[0m \u001b[0;32mor\u001b[0m \u001b[0miterator\u001b[0m\u001b[0;34m:\u001b[0m\u001b[0;34m\u001b[0m\u001b[0;34m\u001b[0m\u001b[0m\n",
            "\u001b[0;32m/usr/local/lib/python3.11/dist-packages/pandas/io/parsers/readers.py\u001b[0m in \u001b[0;36m__init__\u001b[0;34m(self, f, engine, **kwds)\u001b[0m\n\u001b[1;32m   1618\u001b[0m \u001b[0;34m\u001b[0m\u001b[0m\n\u001b[1;32m   1619\u001b[0m         \u001b[0mself\u001b[0m\u001b[0;34m.\u001b[0m\u001b[0mhandles\u001b[0m\u001b[0;34m:\u001b[0m \u001b[0mIOHandles\u001b[0m \u001b[0;34m|\u001b[0m \u001b[0;32mNone\u001b[0m \u001b[0;34m=\u001b[0m \u001b[0;32mNone\u001b[0m\u001b[0;34m\u001b[0m\u001b[0;34m\u001b[0m\u001b[0m\n\u001b[0;32m-> 1620\u001b[0;31m         \u001b[0mself\u001b[0m\u001b[0;34m.\u001b[0m\u001b[0m_engine\u001b[0m \u001b[0;34m=\u001b[0m \u001b[0mself\u001b[0m\u001b[0;34m.\u001b[0m\u001b[0m_make_engine\u001b[0m\u001b[0;34m(\u001b[0m\u001b[0mf\u001b[0m\u001b[0;34m,\u001b[0m \u001b[0mself\u001b[0m\u001b[0;34m.\u001b[0m\u001b[0mengine\u001b[0m\u001b[0;34m)\u001b[0m\u001b[0;34m\u001b[0m\u001b[0;34m\u001b[0m\u001b[0m\n\u001b[0m\u001b[1;32m   1621\u001b[0m \u001b[0;34m\u001b[0m\u001b[0m\n\u001b[1;32m   1622\u001b[0m     \u001b[0;32mdef\u001b[0m \u001b[0mclose\u001b[0m\u001b[0;34m(\u001b[0m\u001b[0mself\u001b[0m\u001b[0;34m)\u001b[0m \u001b[0;34m->\u001b[0m \u001b[0;32mNone\u001b[0m\u001b[0;34m:\u001b[0m\u001b[0;34m\u001b[0m\u001b[0;34m\u001b[0m\u001b[0m\n",
            "\u001b[0;32m/usr/local/lib/python3.11/dist-packages/pandas/io/parsers/readers.py\u001b[0m in \u001b[0;36m_make_engine\u001b[0;34m(self, f, engine)\u001b[0m\n\u001b[1;32m   1878\u001b[0m                 \u001b[0;32mif\u001b[0m \u001b[0;34m\"b\"\u001b[0m \u001b[0;32mnot\u001b[0m \u001b[0;32min\u001b[0m \u001b[0mmode\u001b[0m\u001b[0;34m:\u001b[0m\u001b[0;34m\u001b[0m\u001b[0;34m\u001b[0m\u001b[0m\n\u001b[1;32m   1879\u001b[0m                     \u001b[0mmode\u001b[0m \u001b[0;34m+=\u001b[0m \u001b[0;34m\"b\"\u001b[0m\u001b[0;34m\u001b[0m\u001b[0;34m\u001b[0m\u001b[0m\n\u001b[0;32m-> 1880\u001b[0;31m             self.handles = get_handle(\n\u001b[0m\u001b[1;32m   1881\u001b[0m                 \u001b[0mf\u001b[0m\u001b[0;34m,\u001b[0m\u001b[0;34m\u001b[0m\u001b[0;34m\u001b[0m\u001b[0m\n\u001b[1;32m   1882\u001b[0m                 \u001b[0mmode\u001b[0m\u001b[0;34m,\u001b[0m\u001b[0;34m\u001b[0m\u001b[0;34m\u001b[0m\u001b[0m\n",
            "\u001b[0;32m/usr/local/lib/python3.11/dist-packages/pandas/io/common.py\u001b[0m in \u001b[0;36mget_handle\u001b[0;34m(path_or_buf, mode, encoding, compression, memory_map, is_text, errors, storage_options)\u001b[0m\n\u001b[1;32m    871\u001b[0m         \u001b[0;32mif\u001b[0m \u001b[0mioargs\u001b[0m\u001b[0;34m.\u001b[0m\u001b[0mencoding\u001b[0m \u001b[0;32mand\u001b[0m \u001b[0;34m\"b\"\u001b[0m \u001b[0;32mnot\u001b[0m \u001b[0;32min\u001b[0m \u001b[0mioargs\u001b[0m\u001b[0;34m.\u001b[0m\u001b[0mmode\u001b[0m\u001b[0;34m:\u001b[0m\u001b[0;34m\u001b[0m\u001b[0;34m\u001b[0m\u001b[0m\n\u001b[1;32m    872\u001b[0m             \u001b[0;31m# Encoding\u001b[0m\u001b[0;34m\u001b[0m\u001b[0;34m\u001b[0m\u001b[0m\n\u001b[0;32m--> 873\u001b[0;31m             handle = open(\n\u001b[0m\u001b[1;32m    874\u001b[0m                 \u001b[0mhandle\u001b[0m\u001b[0;34m,\u001b[0m\u001b[0;34m\u001b[0m\u001b[0;34m\u001b[0m\u001b[0m\n\u001b[1;32m    875\u001b[0m                 \u001b[0mioargs\u001b[0m\u001b[0;34m.\u001b[0m\u001b[0mmode\u001b[0m\u001b[0;34m,\u001b[0m\u001b[0;34m\u001b[0m\u001b[0;34m\u001b[0m\u001b[0m\n",
            "\u001b[0;31mFileNotFoundError\u001b[0m: [Errno 2] No such file or directory: '/content/btcusd_1-min_data.csv'"
          ]
        }
      ]
    },
    {
      "cell_type": "code",
      "source": [
        "df = bit_data[bit_data['Timestamp']>=1356998400]\n",
        "dfl = len(df)\n",
        "dfl"
      ],
      "metadata": {
        "id": "9eca2jY07EGM"
      },
      "execution_count": null,
      "outputs": []
    },
    {
      "cell_type": "code",
      "source": [
        "date = pd.date_range(start='2013-01-01', periods=182*25*24*60, freq='min')\n",
        "datel = len(date)\n",
        "datel"
      ],
      "metadata": {
        "id": "c_3WCShy8Fp5"
      },
      "execution_count": null,
      "outputs": []
    },
    {
      "cell_type": "code",
      "source": [
        "df = df[df['Timestamp']<1356998400+datel*60]\n",
        "len(df)"
      ],
      "metadata": {
        "id": "mxx5SRQT-a8z"
      },
      "execution_count": null,
      "outputs": []
    },
    {
      "cell_type": "code",
      "source": [
        "df['datetime'] = date[:dfl]\n",
        "df = df.set_index('datetime')"
      ],
      "metadata": {
        "id": "WgQtab8x-BU0"
      },
      "execution_count": null,
      "outputs": []
    },
    {
      "cell_type": "code",
      "source": [
        "daily_series = df['Close'].resample('D').mean().fillna(method='ffill')\n",
        "\n",
        "l = 91\n",
        "m = 44\n",
        "train_size = l*m\n",
        "train_series = daily_series[:train_size]\n",
        "test_series = daily_series[train_size:train_size+l]\n",
        "\n",
        "forecaster = BitcoinFourierForecaster(l=l, m=m, p=5, method=\"arima\")\n",
        "forecaster.fit(train_series)"
      ],
      "metadata": {
        "id": "97uG7sxzv2Am"
      },
      "execution_count": null,
      "outputs": []
    },
    {
      "cell_type": "code",
      "source": [
        "test_pred = forecaster.predict(index=pd.date_range(start=test_series.index[0], periods=l))\n",
        "\n",
        "mae, mape = forecaster.evaluate(test_series)\n",
        "print(f\"MAE: {mae}, MAPE: {mape}\")\n",
        "\n",
        "fig = forecaster.plot(test_series)\n",
        "fig.show()"
      ],
      "metadata": {
        "id": "Nu2WAAy11-Eg"
      },
      "execution_count": null,
      "outputs": []
    },
    {
      "cell_type": "code",
      "source": [
        "fig = go.Figure()\n",
        "\n",
        "fig.add_scatter(\n",
        "    x=train_series.index,\n",
        "    y=train_series.values,\n",
        "    line={'width':2},\n",
        "    name=\"Train\"\n",
        ")\n",
        "\n",
        "fig.add_scatter(\n",
        "    x=test_series.index,\n",
        "    y=test_series.values,\n",
        "    line={'width':2},\n",
        "    name=\"Test\"\n",
        ")\n",
        "\n",
        "fig.add_scatter(\n",
        "    x=test_pred.index,\n",
        "    y=test_pred.values,\n",
        "    line={'width':2},\n",
        "    name=\"Pred\"\n",
        ")\n",
        "\n",
        "fig.update_layout(\n",
        "    title='',\n",
        "    scene=dict(\n",
        "        xaxis_title='',\n",
        "        yaxis_title=''\n",
        "    ),\n",
        "    showlegend=True,\n",
        "    height=600\n",
        ")"
      ],
      "metadata": {
        "id": "5yDq8eUgwEZK"
      },
      "execution_count": null,
      "outputs": []
    },
    {
      "cell_type": "code",
      "source": [
        "l = 30\n",
        "m = (44*13*7)//30-1\n",
        "train_size = l*m\n",
        "train_series = daily_series[30*110+1:train_size+1]\n",
        "test_series = daily_series[train_size+1:train_size+l+1]\n",
        "\n",
        "forecaster = BitcoinFourierForecaster(l=l, m=m-110, p=5, method=\"arima\")\n",
        "forecaster.fit(train_series)"
      ],
      "metadata": {
        "id": "YZgykNEBFByh"
      },
      "execution_count": null,
      "outputs": []
    },
    {
      "cell_type": "code",
      "source": [
        "test_pred = forecaster.predict(index=pd.date_range(start=test_series.index[0], periods=l))\n",
        "\n",
        "mae, mape = forecaster.evaluate(test_series)\n",
        "print(f\"MAE: {mae}, MAPE: {mape}\")\n",
        "\n",
        "fig = forecaster.plot(test_series)\n",
        "fig.show()"
      ],
      "metadata": {
        "id": "JK_UjFXgFEJQ"
      },
      "execution_count": null,
      "outputs": []
    },
    {
      "cell_type": "code",
      "source": [
        "fig = go.Figure()\n",
        "\n",
        "fig.add_scatter(\n",
        "    x=train_series.index,\n",
        "    y=train_series.values,\n",
        "    line={'width':2},\n",
        "    name=\"Train\"\n",
        ")\n",
        "\n",
        "fig.add_scatter(\n",
        "    x=test_series.index,\n",
        "    y=test_series.values,\n",
        "    line={'width':2},\n",
        "    name=\"Test\"\n",
        ")\n",
        "\n",
        "fig.add_scatter(\n",
        "    x=test_pred.index,\n",
        "    y=test_pred.values,\n",
        "    line={'width':2},\n",
        "    name=\"Pred\"\n",
        ")\n",
        "\n",
        "fig.update_layout(\n",
        "    title='BitCoin',\n",
        "    scene=dict(\n",
        "        xaxis_title='',\n",
        "        yaxis_title=''\n",
        "    ),\n",
        "    showlegend=True,\n",
        "    height=600\n",
        ")"
      ],
      "metadata": {
        "id": "o2osPCk25Grs"
      },
      "execution_count": null,
      "outputs": []
    },
    {
      "cell_type": "code",
      "source": [],
      "metadata": {
        "id": "xPN80QSjFxqx"
      },
      "execution_count": null,
      "outputs": []
    }
  ]
}